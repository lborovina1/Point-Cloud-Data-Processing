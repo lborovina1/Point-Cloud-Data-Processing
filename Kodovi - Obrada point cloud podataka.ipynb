{
 "cells": [
  {
   "cell_type": "markdown",
   "id": "35d8a015-7146-4b40-9477-a2f4cafb8363",
   "metadata": {},
   "source": [
    "## Obrada Point Cloud podataka - kodovi za projekat iz predmeta Digitalno procesiranje signala "
   ]
  },
  {
   "cell_type": "markdown",
   "id": "a1b0a91c-ff01-4252-9bd4-fdeea263ceb3",
   "metadata": {},
   "source": [
    "***"
   ]
  },
  {
   "cell_type": "markdown",
   "id": "2a4a8666-e524-4b09-b43d-bbfa1a88c6b8",
   "metadata": {},
   "source": [
    "##### Instalacija biblioteka open3D i scikit-learn "
   ]
  },
  {
   "cell_type": "code",
   "execution_count": 2,
   "id": "49514156-200c-4ad4-8d3d-e6e22d81bca8",
   "metadata": {
    "collapsed": true,
    "jupyter": {
     "outputs_hidden": true
    }
   },
   "outputs": [
    {
     "name": "stdout",
     "output_type": "stream",
     "text": [
      "Defaulting to user installation because normal site-packages is not writeable\n",
      "Requirement already satisfied: open3d in /home/hasti/.local/lib/python3.10/site-packages (0.18.0)\n",
      "Requirement already satisfied: pyyaml>=5.4.1 in /usr/lib/python3/dist-packages (from open3d) (5.4.1)\n",
      "Requirement already satisfied: dash>=2.6.0 in /home/hasti/.local/lib/python3.10/site-packages (from open3d) (2.17.0)\n",
      "Requirement already satisfied: nbformat>=5.7.0 in /home/hasti/.local/lib/python3.10/site-packages (from open3d) (5.10.4)\n",
      "Requirement already satisfied: numpy>1.18 in /home/hasti/.local/lib/python3.10/site-packages (from open3d) (1.26.4)\n",
      "Requirement already satisfied: configargparse in /home/hasti/.local/lib/python3.10/site-packages (from open3d) (1.7)\n",
      "Requirement already satisfied: ipywidgets>=8.0.4 in /home/hasti/.local/lib/python3.10/site-packages (from open3d) (8.1.2)\n",
      "Requirement already satisfied: pandas>=1.0 in /home/hasti/.local/lib/python3.10/site-packages (from open3d) (2.2.2)\n",
      "Requirement already satisfied: matplotlib>=3 in /home/hasti/.local/lib/python3.10/site-packages (from open3d) (3.8.4)\n",
      "Requirement already satisfied: tqdm in /home/hasti/.local/lib/python3.10/site-packages (from open3d) (4.66.4)\n",
      "Requirement already satisfied: addict in /home/hasti/.local/lib/python3.10/site-packages (from open3d) (2.4.0)\n",
      "Requirement already satisfied: pyquaternion in /home/hasti/.local/lib/python3.10/site-packages (from open3d) (0.9.9)\n",
      "Requirement already satisfied: werkzeug>=2.2.3 in /home/hasti/.local/lib/python3.10/site-packages (from open3d) (3.0.3)\n",
      "Requirement already satisfied: pillow>=9.3.0 in /home/hasti/.local/lib/python3.10/site-packages (from open3d) (10.3.0)\n",
      "Requirement already satisfied: scikit-learn>=0.21 in /home/hasti/.local/lib/python3.10/site-packages (from open3d) (1.4.2)\n",
      "Requirement already satisfied: dash-core-components==2.0.0 in /home/hasti/.local/lib/python3.10/site-packages (from dash>=2.6.0->open3d) (2.0.0)\n",
      "Requirement already satisfied: importlib-metadata in /usr/lib/python3/dist-packages (from dash>=2.6.0->open3d) (4.6.4)\n",
      "Requirement already satisfied: nest-asyncio in /home/hasti/.local/lib/python3.10/site-packages (from dash>=2.6.0->open3d) (1.6.0)\n",
      "Requirement already satisfied: typing-extensions>=4.1.1 in /home/hasti/.local/lib/python3.10/site-packages (from dash>=2.6.0->open3d) (4.11.0)\n",
      "Requirement already satisfied: dash-html-components==2.0.0 in /home/hasti/.local/lib/python3.10/site-packages (from dash>=2.6.0->open3d) (2.0.0)\n",
      "Requirement already satisfied: Flask<3.1,>=1.0.4 in /home/hasti/.local/lib/python3.10/site-packages (from dash>=2.6.0->open3d) (3.0.3)\n",
      "Requirement already satisfied: plotly>=5.0.0 in /home/hasti/.local/lib/python3.10/site-packages (from dash>=2.6.0->open3d) (5.22.0)\n",
      "Requirement already satisfied: retrying in /home/hasti/.local/lib/python3.10/site-packages (from dash>=2.6.0->open3d) (1.3.4)\n",
      "Requirement already satisfied: requests in /usr/lib/python3/dist-packages (from dash>=2.6.0->open3d) (2.25.1)\n",
      "Requirement already satisfied: dash-table==5.0.0 in /home/hasti/.local/lib/python3.10/site-packages (from dash>=2.6.0->open3d) (5.0.0)\n",
      "Requirement already satisfied: setuptools in /usr/lib/python3/dist-packages (from dash>=2.6.0->open3d) (59.6.0)\n",
      "Requirement already satisfied: comm>=0.1.3 in /home/hasti/.local/lib/python3.10/site-packages (from ipywidgets>=8.0.4->open3d) (0.2.2)\n",
      "Requirement already satisfied: widgetsnbextension~=4.0.10 in /home/hasti/.local/lib/python3.10/site-packages (from ipywidgets>=8.0.4->open3d) (4.0.10)\n",
      "Requirement already satisfied: ipython>=6.1.0 in /home/hasti/.local/lib/python3.10/site-packages (from ipywidgets>=8.0.4->open3d) (8.24.0)\n",
      "Requirement already satisfied: jupyterlab-widgets~=3.0.10 in /home/hasti/.local/lib/python3.10/site-packages (from ipywidgets>=8.0.4->open3d) (3.0.10)\n",
      "Requirement already satisfied: traitlets>=4.3.1 in /home/hasti/.local/lib/python3.10/site-packages (from ipywidgets>=8.0.4->open3d) (5.14.3)\n",
      "Requirement already satisfied: cycler>=0.10 in /home/hasti/.local/lib/python3.10/site-packages (from matplotlib>=3->open3d) (0.12.1)\n",
      "Requirement already satisfied: kiwisolver>=1.3.1 in /home/hasti/.local/lib/python3.10/site-packages (from matplotlib>=3->open3d) (1.4.5)\n",
      "Requirement already satisfied: contourpy>=1.0.1 in /home/hasti/.local/lib/python3.10/site-packages (from matplotlib>=3->open3d) (1.2.1)\n",
      "Requirement already satisfied: packaging>=20.0 in /home/hasti/.local/lib/python3.10/site-packages (from matplotlib>=3->open3d) (24.0)\n",
      "Requirement already satisfied: python-dateutil>=2.7 in /home/hasti/.local/lib/python3.10/site-packages (from matplotlib>=3->open3d) (2.9.0.post0)\n",
      "Requirement already satisfied: fonttools>=4.22.0 in /home/hasti/.local/lib/python3.10/site-packages (from matplotlib>=3->open3d) (4.51.0)\n",
      "Requirement already satisfied: pyparsing>=2.3.1 in /usr/lib/python3/dist-packages (from matplotlib>=3->open3d) (2.4.7)\n",
      "Requirement already satisfied: jsonschema>=2.6 in /usr/lib/python3/dist-packages (from nbformat>=5.7.0->open3d) (3.2.0)\n",
      "Requirement already satisfied: fastjsonschema>=2.15 in /home/hasti/.local/lib/python3.10/site-packages (from nbformat>=5.7.0->open3d) (2.19.1)\n",
      "Requirement already satisfied: jupyter-core!=5.0.*,>=4.12 in /home/hasti/.local/lib/python3.10/site-packages (from nbformat>=5.7.0->open3d) (5.7.2)\n",
      "Requirement already satisfied: pytz>=2020.1 in /usr/lib/python3/dist-packages (from pandas>=1.0->open3d) (2022.1)\n",
      "Requirement already satisfied: tzdata>=2022.7 in /home/hasti/.local/lib/python3.10/site-packages (from pandas>=1.0->open3d) (2024.1)\n",
      "Requirement already satisfied: scipy>=1.6.0 in /home/hasti/.local/lib/python3.10/site-packages (from scikit-learn>=0.21->open3d) (1.13.0)\n",
      "Requirement already satisfied: threadpoolctl>=2.0.0 in /home/hasti/.local/lib/python3.10/site-packages (from scikit-learn>=0.21->open3d) (3.5.0)\n",
      "Requirement already satisfied: joblib>=1.2.0 in /home/hasti/.local/lib/python3.10/site-packages (from scikit-learn>=0.21->open3d) (1.4.2)\n",
      "Requirement already satisfied: MarkupSafe>=2.1.1 in /home/hasti/.local/lib/python3.10/site-packages (from werkzeug>=2.2.3->open3d) (2.1.5)\n",
      "Requirement already satisfied: click>=8.1.3 in /home/hasti/.local/lib/python3.10/site-packages (from Flask<3.1,>=1.0.4->dash>=2.6.0->open3d) (8.1.7)\n",
      "Requirement already satisfied: itsdangerous>=2.1.2 in /home/hasti/.local/lib/python3.10/site-packages (from Flask<3.1,>=1.0.4->dash>=2.6.0->open3d) (2.2.0)\n",
      "Requirement already satisfied: blinker>=1.6.2 in /home/hasti/.local/lib/python3.10/site-packages (from Flask<3.1,>=1.0.4->dash>=2.6.0->open3d) (1.8.2)\n",
      "Requirement already satisfied: Jinja2>=3.1.2 in /home/hasti/.local/lib/python3.10/site-packages (from Flask<3.1,>=1.0.4->dash>=2.6.0->open3d) (3.1.4)\n",
      "Requirement already satisfied: jedi>=0.16 in /usr/lib/python3/dist-packages (from ipython>=6.1.0->ipywidgets>=8.0.4->open3d) (0.18.0)\n",
      "Requirement already satisfied: matplotlib-inline in /home/hasti/.local/lib/python3.10/site-packages (from ipython>=6.1.0->ipywidgets>=8.0.4->open3d) (0.1.7)\n",
      "Requirement already satisfied: exceptiongroup in /home/hasti/.local/lib/python3.10/site-packages (from ipython>=6.1.0->ipywidgets>=8.0.4->open3d) (1.2.1)\n",
      "Requirement already satisfied: decorator in /home/hasti/.local/lib/python3.10/site-packages (from ipython>=6.1.0->ipywidgets>=8.0.4->open3d) (5.1.1)\n",
      "Requirement already satisfied: stack-data in /home/hasti/.local/lib/python3.10/site-packages (from ipython>=6.1.0->ipywidgets>=8.0.4->open3d) (0.6.3)\n",
      "Requirement already satisfied: prompt-toolkit<3.1.0,>=3.0.41 in /home/hasti/.local/lib/python3.10/site-packages (from ipython>=6.1.0->ipywidgets>=8.0.4->open3d) (3.0.43)\n",
      "Requirement already satisfied: pygments>=2.4.0 in /usr/lib/python3/dist-packages (from ipython>=6.1.0->ipywidgets>=8.0.4->open3d) (2.11.2)\n",
      "Requirement already satisfied: pexpect>4.3 in /usr/lib/python3/dist-packages (from ipython>=6.1.0->ipywidgets>=8.0.4->open3d) (4.8.0)\n",
      "Requirement already satisfied: platformdirs>=2.5 in /usr/lib/python3/dist-packages (from jupyter-core!=5.0.*,>=4.12->nbformat>=5.7.0->open3d) (2.5.1)\n",
      "Requirement already satisfied: tenacity>=6.2.0 in /home/hasti/.local/lib/python3.10/site-packages (from plotly>=5.0.0->dash>=2.6.0->open3d) (8.3.0)\n",
      "Requirement already satisfied: six>=1.5 in /usr/lib/python3/dist-packages (from python-dateutil>=2.7->matplotlib>=3->open3d) (1.16.0)\n",
      "Requirement already satisfied: wcwidth in /usr/lib/python3/dist-packages (from prompt-toolkit<3.1.0,>=3.0.41->ipython>=6.1.0->ipywidgets>=8.0.4->open3d) (0.2.5)\n",
      "Requirement already satisfied: asttokens>=2.1.0 in /home/hasti/.local/lib/python3.10/site-packages (from stack-data->ipython>=6.1.0->ipywidgets>=8.0.4->open3d) (2.4.1)\n",
      "Requirement already satisfied: executing>=1.2.0 in /home/hasti/.local/lib/python3.10/site-packages (from stack-data->ipython>=6.1.0->ipywidgets>=8.0.4->open3d) (2.0.1)\n",
      "Requirement already satisfied: pure-eval in /home/hasti/.local/lib/python3.10/site-packages (from stack-data->ipython>=6.1.0->ipywidgets>=8.0.4->open3d) (0.2.2)\n"
     ]
    }
   ],
   "source": [
    "!pip install open3d"
   ]
  },
  {
   "cell_type": "code",
   "execution_count": 3,
   "id": "263c6090-7368-45fe-ad08-0432ed128a5c",
   "metadata": {
    "collapsed": true,
    "jupyter": {
     "outputs_hidden": true
    }
   },
   "outputs": [
    {
     "name": "stdout",
     "output_type": "stream",
     "text": [
      "Defaulting to user installation because normal site-packages is not writeable\n",
      "Requirement already satisfied: scikit-learn in /home/hasti/.local/lib/python3.10/site-packages (1.4.2)\n",
      "Requirement already satisfied: scipy>=1.6.0 in /home/hasti/.local/lib/python3.10/site-packages (from scikit-learn) (1.13.0)\n",
      "Requirement already satisfied: numpy>=1.19.5 in /home/hasti/.local/lib/python3.10/site-packages (from scikit-learn) (1.26.4)\n",
      "Requirement already satisfied: threadpoolctl>=2.0.0 in /home/hasti/.local/lib/python3.10/site-packages (from scikit-learn) (3.5.0)\n",
      "Requirement already satisfied: joblib>=1.2.0 in /home/hasti/.local/lib/python3.10/site-packages (from scikit-learn) (1.4.2)\n"
     ]
    }
   ],
   "source": [
    "!pip install scikit-learn"
   ]
  },
  {
   "cell_type": "markdown",
   "id": "87941d52-52c2-43f8-b508-4602f8adbef2",
   "metadata": {},
   "source": [
    "##### Import potrebnih biblioteka "
   ]
  },
  {
   "cell_type": "code",
   "execution_count": 1,
   "id": "378af1b6-e059-422b-ac60-3b6096b73b51",
   "metadata": {},
   "outputs": [
    {
     "name": "stdout",
     "output_type": "stream",
     "text": [
      "Jupyter environment detected. Enabling Open3D WebVisualizer.\n",
      "[Open3D INFO] WebRTC GUI backend enabled.\n",
      "[Open3D INFO] WebRTCWindowSystem: HTTP handshake server disabled.\n"
     ]
    }
   ],
   "source": [
    "import numpy as np\n",
    "import pandas as pd\n",
    "import matplotlib.pyplot as plt\n",
    "from mpl_toolkits.mplot3d import Axes3D\n",
    "import open3d as o3d\n",
    "import sys\n",
    "import math\n",
    "import random\n",
    "from sklearn.cluster import MeanShift, estimate_bandwidth\n",
    "from mpl_toolkits.mplot3d import Axes3D"
   ]
  },
  {
   "cell_type": "markdown",
   "id": "3b8f91dc-a068-4899-9b3d-765fa6019a2d",
   "metadata": {},
   "source": [
    "##### Učitavamo Point Cloud podatke koje obrađujemo"
   ]
  },
  {
   "cell_type": "code",
   "execution_count": 82,
   "id": "f6eef8d2-3d1f-451d-987f-3cedaeafd999",
   "metadata": {},
   "outputs": [],
   "source": [
    "PATH = \"/home/hasti/DPS/PointCloudAlgorithms/ITC_groundfloor.ply\"\n",
    "pcd = o3d.io.read_point_cloud(PATH)"
   ]
  },
  {
   "cell_type": "markdown",
   "id": "848aa8b7-7a5b-407e-85db-652c366baffa",
   "metadata": {},
   "source": [
    "##### Centralizacija i vizualizacija učitanih podataka "
   ]
  },
  {
   "cell_type": "code",
   "execution_count": 27,
   "id": "1ae834e8-d540-4efc-baa2-c032bfc84430",
   "metadata": {},
   "outputs": [],
   "source": [
    "pcd_center = pcd.get_center()\n",
    "pcd.translate(-pcd_center) # Transliramo point cloud tako da je njegovo središte u koordinatnom početku (0,0,0)\n",
    "o3d.visualization.draw_geometries([pcd])"
   ]
  },
  {
   "cell_type": "markdown",
   "id": "05c41cac-d29e-4fb1-83c6-21b504475ff9",
   "metadata": {},
   "source": [
    "***"
   ]
  },
  {
   "cell_type": "code",
   "execution_count": 28,
   "id": "66911322",
   "metadata": {},
   "outputs": [],
   "source": [
    "euclid = lambda x, y : math.sqrt( (x[0] - y[0])**2 + (x[1] - y[1])**2 + (x[2] - y[2])**2 ) "
   ]
  },
  {
   "cell_type": "markdown",
   "id": "f2166763-7e44-431a-bd04-ef5f3f1dd79c",
   "metadata": {},
   "source": [
    "#### Statistical Outlier Removal "
   ]
  },
  {
   "cell_type": "code",
   "execution_count": 85,
   "id": "3576cfc5-2e4f-41aa-bbeb-05d067e7cc3b",
   "metadata": {},
   "outputs": [],
   "source": [
    "nn = 16\n",
    "std_multiplier = 5\n",
    "\n",
    "filtered_pcd, filtered_idx = pcd.remove_statistical_outlier(nn, std_multiplier) # filtered_pcd ne sadrzi outliere"
   ]
  },
  {
   "cell_type": "code",
   "execution_count": 8,
   "id": "60230a66-54d9-4b98-b0a9-b1590f35dddb",
   "metadata": {},
   "outputs": [
    {
     "name": "stdout",
     "output_type": "stream",
     "text": [
      "0.9945401681234178\n"
     ]
    }
   ],
   "source": [
    "print(len(filtered_idx) / len(pcd.points)) # broj zadrzanih "
   ]
  },
  {
   "cell_type": "code",
   "execution_count": 9,
   "id": "a4ecefaa-106a-4492-8710-8eb758e2e3d1",
   "metadata": {
    "collapsed": true,
    "jupyter": {
     "outputs_hidden": true
    },
    "scrolled": true
   },
   "outputs": [],
   "source": [
    "outliers = pcd.select_by_index(filtered_idx, invert=True)\n",
    "outliers.paint_uniform_color([1, 0, 0])\n",
    "o3d.visualization.draw_geometries([filtered_pcd, outliers])"
   ]
  },
  {
   "cell_type": "markdown",
   "id": "a1156691",
   "metadata": {},
   "source": [
    "#### Radius Outlier Removal "
   ]
  },
  {
   "cell_type": "code",
   "execution_count": 10,
   "id": "03ceda65",
   "metadata": {},
   "outputs": [],
   "source": [
    "filtered_pcd, filtered_idx = pcd.remove_radius_outlier(nb_points=16, radius=0.5)\n",
    "\n",
    "outliers = pcd.select_by_index(filtered_idx, invert=True)"
   ]
  },
  {
   "cell_type": "code",
   "execution_count": 12,
   "id": "9fad43bf",
   "metadata": {},
   "outputs": [
    {
     "name": "stdout",
     "output_type": "stream",
     "text": [
      "0.9999283564980657\n"
     ]
    }
   ],
   "source": [
    "print(len(filtered_idx) / len(pcd.points))"
   ]
  },
  {
   "cell_type": "code",
   "execution_count": 35,
   "id": "11113633",
   "metadata": {},
   "outputs": [],
   "source": [
    "\n",
    "outliers.paint_uniform_color([1, 0, 0])\n",
    "o3d.visualization.draw_geometries([filtered_pcd, outliers])"
   ]
  },
  {
   "cell_type": "markdown",
   "id": "aaf65a50",
   "metadata": {},
   "source": [
    "#### Box Plot maksimalne udaljenosti tacaka do K-susjeda "
   ]
  },
  {
   "cell_type": "code",
   "execution_count": 30,
   "id": "e7f05d9f",
   "metadata": {},
   "outputs": [
    {
     "name": "stdout",
     "output_type": "stream",
     "text": [
      "334992\n"
     ]
    },
    {
     "data": {
      "text/plain": [
       "{'whiskers': [<matplotlib.lines.Line2D at 0x745648daab90>,\n",
       "  <matplotlib.lines.Line2D at 0x745648daae30>],\n",
       " 'caps': [<matplotlib.lines.Line2D at 0x745648dab0d0>,\n",
       "  <matplotlib.lines.Line2D at 0x745648dab370>],\n",
       " 'boxes': [<matplotlib.lines.Line2D at 0x745648daa8f0>],\n",
       " 'medians': [<matplotlib.lines.Line2D at 0x745648dab610>],\n",
       " 'fliers': [<matplotlib.lines.Line2D at 0x745648dab8b0>],\n",
       " 'means': []}"
      ]
     },
     "execution_count": 30,
     "metadata": {},
     "output_type": "execute_result"
    },
    {
     "data": {
      "image/png": "[encoded data removed]",
      "text/plain": [
       "<Figure size 640x480 with 1 Axes>"
      ]
     },
     "metadata": {},
     "output_type": "display_data"
    }
   ],
   "source": [
    "K = 50\n",
    "pcd_tree = o3d.geometry.KDTreeFlann(pcd)\n",
    "# Udaljenosti svaka tacka do 16-e najblize\n",
    "\n",
    "dists_K = []\n",
    "for p in range(0, len(pcd.points)):\n",
    "    [k, idx, _] = pcd_tree.search_knn_vector_3d(pcd.points[p], K)\n",
    "    #np.asarray(pcd.colors)[idx[1:], :] = [0, 0, 1]\n",
    "    point = pcd.points[p]\n",
    "    m = euclid(point, pcd.points[idx[-1]])\n",
    "    dists_K.append(m)\n",
    "\n",
    "print(len(dists_K))\n",
    "\n",
    "plt.boxplot(dists_K)\n",
    "\n"
   ]
  },
  {
   "cell_type": "markdown",
   "id": "7ed56bf5-a9a4-4ffe-9ec6-0ac01ca05525",
   "metadata": {},
   "source": [
    "***"
   ]
  },
  {
   "cell_type": "markdown",
   "id": "ed84a6ed-d278-46d2-a7f3-d77a97084f5c",
   "metadata": {},
   "source": [
    "#### Voxeling "
   ]
  },
  {
   "cell_type": "code",
   "execution_count": 10,
   "id": "a1e2f8ce-d9cd-49ea-9016-e5099f38f395",
   "metadata": {},
   "outputs": [],
   "source": [
    "voxel_size = 0.25 \n",
    "pcd_downsampled = filtered_pcd.voxel_down_sample(voxel_size = voxel_size)"
   ]
  },
  {
   "cell_type": "code",
   "execution_count": 11,
   "id": "390f4bbb-7af8-444c-883a-f6b7ac740f14",
   "metadata": {},
   "outputs": [],
   "source": [
    "o3d.visualization.draw_geometries([pcd_downsampled])"
   ]
  },
  {
   "cell_type": "markdown",
   "id": "6d90209e-6254-46ae-96cf-4e76c7c71a09",
   "metadata": {},
   "source": [
    "***"
   ]
  },
  {
   "cell_type": "markdown",
   "id": "a40758a9-1eb6-4a23-a258-d240266398db",
   "metadata": {},
   "source": [
    "#### DBSCAN"
   ]
  },
  {
   "cell_type": "markdown",
   "id": "063b2985-18c6-4042-839c-7455523274b1",
   "metadata": {},
   "source": [
    "***"
   ]
  },
  {
   "cell_type": "markdown",
   "id": "77c32364-3fcb-4876-a79b-2e94f7f77b88",
   "metadata": {},
   "source": [
    "#### K-means"
   ]
  },
  {
   "cell_type": "code",
   "execution_count": 79,
   "id": "56bd676d",
   "metadata": {},
   "outputs": [],
   "source": [
    "class Cluster:\n",
    "    def __init__(self, pts:list, data, metric=euclid):\n",
    "        self.points = pts\n",
    "        \n",
    "        self.metric = metric\n",
    "        self.data = np.asarray(data)\n",
    "        self.centroid = self.compute_centroid()\n",
    "    def update(self, pts:list):\n",
    "        old_centroid = self.centroid\n",
    "        self.points = pts\n",
    "        self.centroid = self.compute_centroid()\n",
    "        return self.metric(old_centroid, self.centroid)\n",
    "    def compute_centroid(self):\n",
    "        sum = np.array([0.0,0.0,0.0])\n",
    "        for p in self.points:\n",
    "            sum += self.data[p]\n",
    "        return (sum[0] / len(self.points), sum[1] / len(self.points), sum[2] / len(self.points))\n",
    "    def get_centroid(self):\n",
    "        return self.centroid\n",
    "    def get_points(self) -> list:\n",
    "        return self.points\n",
    "    def __iter__(self):\n",
    "        return self.points.__iter__()\n",
    "    def __next__(self):\n",
    "        return self.points.__next__()\n",
    "    def get_points(self):\n",
    "        return self.points\n",
    "\n",
    "\n",
    "        "
   ]
  },
  {
   "cell_type": "code",
   "execution_count": 77,
   "id": "6f0d2039",
   "metadata": {},
   "outputs": [],
   "source": [
    "def k_means(pcd, k):\n",
    "    centroidi = random.sample(range(len(pcd.size)), k)\n",
    "    clustering = []\n",
    "    eps = 1e-6\n",
    "    for c in centroidi:\n",
    "        clustering.append(Cluster([c], pcd.points))\n",
    "    converged = False\n",
    "    num_itr = 0\n",
    "    max_itr = 5\n",
    "    while not converged and num_itr < max_itr:\n",
    "        num_itr += 1\n",
    "        new_clustering = []\n",
    "        for i in range(k):\n",
    "            new_clustering.append([])\n",
    "        for p in range(len(pcd.points)):\n",
    "            min = euclid(pcd.points[p], clustering[0].get_centroid())\n",
    "            cluster_index = 0\n",
    "            for i in range(1, k):\n",
    "                d = euclid(pcd.points[p], clustering[i].get_centroid())\n",
    "                if d < min:\n",
    "                    min = d\n",
    "                    cluster_index = i\n",
    "            new_clustering[cluster_index].append(p)\n",
    "\n",
    "        for group in new_clustering:\n",
    "            if len(group) == 0:\n",
    "                raise ValueError('Prazna grupa, nesretan pokusaj')\n",
    "        converged = True\n",
    "        for i in range(k):\n",
    "            if clustering[i].update(new_clustering[i]) > eps:\n",
    "                converged = False\n",
    "        print(num_itr)\n",
    "    return clustering"
   ]
  },
  {
   "cell_type": "code",
   "execution_count": 90,
   "id": "161b4a74",
   "metadata": {},
   "outputs": [
    {
     "name": "stdout",
     "output_type": "stream",
     "text": [
      "1\n",
      "2\n",
      "3\n",
      "4\n",
      "5\n"
     ]
    }
   ],
   "source": [
    "k = 37\n",
    "uni_down_pcd = pcd.uniform_down_sample(every_k_points=10)\n",
    "clustering = k_means(uni_down_pcd, k)\n",
    "\n",
    "\n",
    "\n"
   ]
  },
  {
   "cell_type": "code",
   "execution_count": 91,
   "id": "71950633",
   "metadata": {},
   "outputs": [],
   "source": [
    "temp = []\n",
    "for clus in clustering:\n",
    "     t = uni_down_pcd.select_by_index(clus.get_points())\n",
    "     t.paint_uniform_color([random.uniform(0.0,1.0) , random.uniform(0.0,1.0) , random.uniform(0.0,1.0)])\n",
    "     temp.append(t)\n",
    "o3d.visualization.draw_geometries(temp)\n"
   ]
  },
  {
   "cell_type": "code",
   "execution_count": 92,
   "id": "8a4d6fbc",
   "metadata": {},
   "outputs": [
    {
     "name": "stdout",
     "output_type": "stream",
     "text": [
      "334992\n"
     ]
    }
   ],
   "source": [
    "print(len(pcd.points))"
   ]
  },
  {
   "cell_type": "markdown",
   "id": "6757974b-3886-4374-9b80-8f4c6488b135",
   "metadata": {},
   "source": [
    "***"
   ]
  },
  {
   "cell_type": "markdown",
   "id": "0f58804f-760b-4732-a62f-1eb3ae6a31f4",
   "metadata": {},
   "source": [
    "#### Mean shift"
   ]
  },
  {
   "cell_type": "code",
   "execution_count": 46,
   "id": "d4e7979f-8b99-4fad-9379-c3a34e60f9bf",
   "metadata": {},
   "outputs": [],
   "source": [
    "# Funkcije koje računanaju euklidsku udaljenost i implementiraju Gaussov kernel\n",
    "def euclidean_distance(pointP, pointQ):\n",
    "    total = float(0)\n",
    "    for i in range(len(pointP)):\n",
    "        total += (pointP[i] - pointQ[i])**2\n",
    "    return math.sqrt(total)\n",
    "\n",
    "def gaussian_kernel(distance, bandwidth):\n",
    "    val = (1/(bandwidth*math.sqrt(2*math.pi))) * np.exp(-0.5*((distance / bandwidth))**2)\n",
    "    return val"
   ]
  },
  {
   "cell_type": "code",
   "execution_count": 109,
   "id": "eb254e2f-97e6-4a21-a9fb-be95983c3f90",
   "metadata": {},
   "outputs": [],
   "source": [
    "# Funkcije koje grupišu tačke u clustere nakon što su shift-ane \n",
    "GROUP_DISTANCE_TOLERANCE = 0.000001\n",
    "\n",
    "class PointGrouper(object):\n",
    "    def group_points(self, points):\n",
    "        group_assignment = [] # lista koja čuva informacije kojoj od grupa pripada svaka tačka\n",
    "        groups = []\n",
    "        group_index = 0\n",
    "        for point in points:\n",
    "            nearest_group_index = self.determine_nearest_group(point, groups)\n",
    "            if nearest_group_index is None:\n",
    "                # tačka nije dovoljno blizu ni jednoj grupi da je možemo pridružiti u neku od njih, pa kreiramo novu grupu\n",
    "                groups.append([point])\n",
    "                group_assignment.append(group_index)\n",
    "                group_index += 1\n",
    "            else:\n",
    "                group_assignment.append(nearest_group_index)\n",
    "                groups[nearest_group_index].append(point)\n",
    "        return np.array(group_assignment)\n",
    "\n",
    "    def determine_nearest_group(self, point, groups):\n",
    "        nearest_group_index = None\n",
    "        index = 0 # brojač za grupe\n",
    "        for group in groups: # iteriramo kroz postojeće grupe\n",
    "            distance_to_group = self.distance_to_group(point, group)\n",
    "            if distance_to_group < GROUP_DISTANCE_TOLERANCE:\n",
    "                nearest_group_index = index # ako je tačka udaljena od najbliže grupe za GROUP_DISTANCE_TOLERANCE, pridružujemo je toj grupi\n",
    "            index += 1\n",
    "        return nearest_group_index\n",
    "\n",
    "    def distance_to_group(self, point, group):\n",
    "        min_distance = sys.float_info.max # najveća float vrijednost\n",
    "        for pt in group:\n",
    "            dist = euclidean_distance(point, pt)\n",
    "            if dist < min_distance:\n",
    "                min_distance = dist\n",
    "        return min_distance # vraća najmanju udaljenost tačke od postojećih grupa"
   ]
  },
  {
   "cell_type": "code",
   "execution_count": 48,
   "id": "3fa8033b-7011-4f76-a1cd-c050c473be92",
   "metadata": {},
   "outputs": [],
   "source": [
    "# Implementacija Mean-shift algoritma\n",
    "MIN_DISTANCE = 0.000001\n",
    "\n",
    "class MeanShift(object):\n",
    "    def __init__(self, kernel=gaussian_kernel):\n",
    "        self.kernel = kernel\n",
    "\n",
    "    def cluster(self, points, kernel_bandwidth):\n",
    "        points = np.array(points, dtype=float) # pretvaramo podatke u nparray za numeričku obradu\n",
    "\n",
    "        # kreiramo kopiju podataka kako bismo pomijerali tačke point cloud-a bez da mijenjamo stvarne podatke \n",
    "        shift_points = np.array(points) # kada se algoritam završi, shift_points sadrži finalne pozicije svih tačaka, što predstavlja centre pronađenih clustera \n",
    "        \n",
    "        distance = 1 # pomoćna varijabla za čuvanje udaljenosti između tačaka pri traženju središta clustera\n",
    "        counter = 0 # brojač iteracija\n",
    "        still_shifting = [True] * points.shape[0] # niz bool-ova pomoću kojeg pamtimo koje tačke su već konvergirale u neki od centara clustera\n",
    "        \n",
    "        while distance > MIN_DISTANCE: # dok ne pronađemo sve clustere\n",
    "            distance = 0\n",
    "            counter += 1\n",
    "            for i in range(0, len(shift_points)): # obrađujemo sve tačke -> ako se svaka tacka shiftala za manje od MIN_DISTANCE, znači da je svaka konvergirala u centar svog clustera\n",
    "                if not still_shifting[i]: # preskačemo tačku koja je već konvergirala\n",
    "                    continue\n",
    "                p_new = shift_points[i]\n",
    "                p_new_start = p_new # pamtimo početnu poziciju tačke\n",
    "                p_new = self.shift_point(p_new, points, kernel_bandwidth) # shift-amo tačku ka centru njenog clustera\n",
    "                dist = euclidean_distance(p_new, p_new_start) # računamo udaljenost njene stare i nove pozicije\n",
    "                if dist > distance: \n",
    "                    distance = dist\n",
    "                if dist < MIN_DISTANCE:\n",
    "                    still_shifting[i] = False # tačka je konvergirala \n",
    "                shift_points[i] = p_new # bilježimo novu poziciju obrađene tačke\n",
    "        point_grouper = PointGrouper()\n",
    "        group_assignments = point_grouper.group_points(shift_points.tolist())\n",
    "        return MeanShiftResult(points, shift_points, group_assignments)\n",
    "\n",
    "    def shift_point(self, point, points, kernel_bandwidth):\n",
    "        points = np.array(points)\n",
    "\n",
    "        shift_x = float(0)\n",
    "        shift_y = float(0)\n",
    "        shift_z = float(0)\n",
    "        scale_factor = float(0)\n",
    "        for p in points:\n",
    "            dist = euclidean_distance(point, p) \n",
    "            weight = self.kernel(dist, kernel_bandwidth) # računamo \"težinski faktor\" svake tačke u point cloudu na osnovu njihove udaljenosti od trenutne. Gaussian filter će ove vrijednosti skalirati tako da što su tačke bliže promatranoj, njihov težinski faktor je veći\n",
    "            # množimo koordinate svake tačke sa njenim težinskim faktorom i sumiramo ih da bismo dobili koordinate na koje trebamo shiftati posmatranu tačku\n",
    "            shift_x += p[0] * weight\n",
    "            shift_y += p[1] * weight\n",
    "            shift_z += p[2] * weight\n",
    "            scale_factor += weight # sumiramo težinske faktore\n",
    "        # normaliziramo izračunate nove koordinate\n",
    "        shift_x = shift_x / scale_factor\n",
    "        shift_y = shift_y / scale_factor\n",
    "        shift_z = shift_z / scale_factor\n",
    "        return [shift_x, shift_y, shift_z]\n",
    "\n",
    "class MeanShiftResult:\n",
    "    def __init__(self, original_points, shifted_points, cluster_ids):\n",
    "        self.original_points = original_points\n",
    "        self.shifted_points = shifted_points\n",
    "        self.cluster_ids = cluster_ids"
   ]
  },
  {
   "cell_type": "code",
   "execution_count": 62,
   "id": "a1e4e923-699f-4422-9f7f-afaaa9a3c4db",
   "metadata": {},
   "outputs": [
    {
     "name": "stdout",
     "output_type": "stream",
     "text": [
      "Original Point     Shifted Point  Cluster ID\n",
      "============================================\n"
     ]
    }
   ],
   "source": [
    "retained_ratio = 0.003\n",
    "pcdh = pcd.random_down_sample(retained_ratio)\n",
    "mean_shift = MeanShift()\n",
    "mean_shift_result = mean_shift.cluster(np.asarray(pcdh.points), kernel_bandwidth=2)\n",
    "\n",
    "for i in range(len(mean_shift_result.shifted_points)):\n",
    "    original_point = mean_shift_result.original_points[i]\n",
    "    converged_point = mean_shift_result.shifted_points[i]\n",
    "    cluster_assignment = mean_shift_result.cluster_ids[i]"
   ]
  },
  {
   "cell_type": "markdown",
   "id": "01e4cd99-2c12-4b6b-92f8-fb99660222bd",
   "metadata": {},
   "source": [
    "##### Vizualizacija"
   ]
  },
  {
   "cell_type": "code",
   "execution_count": null,
   "id": "386f03d5-1944-488d-8140-3a3cf0dd658e",
   "metadata": {},
   "outputs": [],
   "source": [
    "unique_labels = np.unique(mean_shift_result.cluster_ids)\n",
    "colormap = plt.get_cmap('tab10')  \n",
    "colors = colormap(np.linspace(0, 1, len(unique_labels)))[:, :3]  \n",
    "print(mean_shift_result.cluster_ids)\n",
    "\n",
    "label_to_color = {label: colors[i] for i, label in enumerate(unique_labels)}\n",
    "point_colors = np.array([label_to_color[label] for label in mean_shift_result.cluster_ids])\n",
    "\n",
    "point_cloud = o3d.geometry.PointCloud()\n",
    "point_cloud.points = o3d.utility.Vector3dVector(mean_shift_result.original_points)\n",
    "point_cloud.colors = o3d.utility.Vector3dVector(point_colors)\n",
    "\n",
    "o3d.visualization.draw_geometries([point_cloud])"
   ]
  },
  {
   "cell_type": "markdown",
   "id": "9ef50dc8-b4e2-48d5-92cc-c0c6befbab94",
   "metadata": {},
   "source": [
    "##### Upotreba bibliotečne funkcije Mean shift"
   ]
  },
  {
   "cell_type": "code",
   "execution_count": 111,
   "id": "7033ff82-8e39-473e-bb34-83bb66cdb9a4",
   "metadata": {},
   "outputs": [],
   "source": [
    "mns = o3d.geometry.PointCloud(pcd)\n",
    "pnts = np.asarray(mns.points)\n",
    "\n",
    "ms = MeanShift(bandwidth=0.45, bin_seeding=True)\n",
    "ms.fit(pnts)\n",
    "\n",
    "labels = ms.labels_\n",
    "cluster_centers = ms.cluster_centers_"
   ]
  },
  {
   "cell_type": "code",
   "execution_count": 113,
   "id": "01474000-9236-436c-95fe-32cb934d57b0",
   "metadata": {},
   "outputs": [
    {
     "name": "stdout",
     "output_type": "stream",
     "text": [
      "[Open3D WARNING] GLFW Error: WGL: Failed to make context current: The requested transformation operation is not supported. \n",
      "[Open3D WARNING] GLFW Error: WGL: Failed to make context current: The handle is invalid. \n",
      "[Open3D WARNING] GLFW Error: WGL: Failed to make context current: The handle is invalid. \n",
      "[Open3D WARNING] GLFW Error: WGL: Failed to make context current: The handle is invalid. \n",
      "[Open3D WARNING] GLFW Error: WGL: Failed to make context current: The requested transformation operation is not supported. \n",
      "[Open3D WARNING] GLFW Error: WGL: Failed to make context current: The handle is invalid. \n",
      "[Open3D WARNING] GLFW Error: WGL: Failed to make context current: The requested transformation operation is not supported. \n",
      "[Open3D WARNING] GLFW Error: WGL: Failed to make context current: The handle is invalid. \n",
      "[Open3D WARNING] GLFW Error: WGL: Failed to make context current: The requested transformation operation is not supported. \n"
     ]
    }
   ],
   "source": [
    "n_clusters_ = len(np.unique(labels))\n",
    "colors = plt.cm.Spectral(np.linspace(0,1,n_clusters_))[:,:3]\n",
    "point_colors = np.array([colors[label] for label in labels])\n",
    "mns.colors = o3d.utility.Vector3dVector(point_colors)\n",
    "\n",
    "o3d.visualization.draw_geometries([pcd])"
   ]
  },
  {
   "cell_type": "markdown",
   "id": "6c4f3e32-23d4-413e-a4d9-4bf85ae59a50",
   "metadata": {},
   "source": [
    "***"
   ]
  },
  {
   "cell_type": "markdown",
   "id": "8c9cc687-eee7-47d1-9a73-4db4bd136dce",
   "metadata": {},
   "source": [
    "#### DBSCAN"
   ]
  },
  {
   "cell_type": "markdown",
   "id": "040004f8-d85f-4c7c-a794-5d6d5a3b41da",
   "metadata": {},
   "source": [
    "***"
   ]
  },
  {
   "cell_type": "markdown",
   "id": "b9de83d5-ecbe-4542-8e07-8eaf0c6ff0f5",
   "metadata": {},
   "source": [
    "#### RANSAC "
   ]
  },
  {
   "cell_type": "code",
   "execution_count": 73,
   "id": "2bf0498f-e1c0-46f3-8cff-30983e28a394",
   "metadata": {},
   "outputs": [],
   "source": [
    "class RANSAC:\n",
    "    def __init__(self, point_cloud, max_iterations, distance_ratio_threshold):\n",
    "        self.point_cloud = point_cloud\n",
    "        self.max_iterations = max_iterations\n",
    "        self.distance_ratio_threshold = distance_ratio_threshold\n",
    "\n",
    "    def run(self):\n",
    "        # Metoda pronalazi inliere i outliere ravni sa najvise inliera i vizualizira ih korištenjem Open3D biblioteke\n",
    "        inliers, outliers, best_plane = self._ransac_algorithm(self.max_iterations, self.distance_ratio_threshold)\n",
    "\n",
    "        # Kreiramo Open3D Point Cloud objekat za inliere najbolje ravni\n",
    "        pcdin = o3d.geometry.PointCloud()\n",
    "        pcdin.points = o3d.utility.Vector3dVector(inliers)\n",
    "\n",
    "        # Kreiramo Open3D Point Cloud objekat za outliere najbolje ravni\n",
    "        pcdout = o3d.geometry.PointCloud()\n",
    "        pcdout.points = o3d.utility.Vector3dVector(outliers)\n",
    "\n",
    "        # Bojimo inliere crveno, a outliere sivo\n",
    "        pcdin.paint_uniform_color([1.0, 0, 0])\n",
    "        pcdout.paint_uniform_color([0.6, 0.6, 0.6])\n",
    "        \n",
    "        # Vizualiziramo inliere i outliere\n",
    "        o3d.visualization.draw_geometries([pcdin, pcdout])\n",
    "\n",
    "        return inliers, best_plane\n",
    "\n",
    "    def _ransac_algorithm(self, max_iterations, distance_ratio_threshold):\n",
    "        # Implementacija RANSAC algoritma\n",
    "        best_inliers_result = []\n",
    "        best_plane = None\n",
    "        points = np.asarray(self.point_cloud.points)\n",
    "        num_points = points.shape[0]\n",
    "\n",
    "        while max_iterations:\n",
    "            max_iterations -= 1\n",
    "            # Biramo tri nasumične tačke iz Point Cloud podatka\n",
    "            inliers = random.sample(range(num_points), 3)\n",
    "            x1, y1, z1 = points[inliers[0]]\n",
    "            x2, y2, z2 = points[inliers[1]]\n",
    "            x3, y3, z3 = points[inliers[2]]\n",
    "\n",
    "            # Jednačina ravni -> ax + by + cz + d = 0\n",
    "            # Izračun koeficijenata ravni \n",
    "            a = (y2 - y1)*(z3 - z1) - (z2 - z1)*(y3 - y1)\n",
    "            b = (z2 - z1)*(x3 - x1) - (x2 - x1)*(z3 - z1)\n",
    "            c = (x2 - x1)*(y3 - y1) - (y2 - y1)*(x3 - x1)\n",
    "            d = -(a*x1 + b*y1 + c*z1)\n",
    "            plane_length = max(0.1, math.sqrt(a*a + b*b + c*c))\n",
    "\n",
    "            # U skupinu inlier-a za trenutnu ravan dodajemo sve tacke čija je udaljenost od ravni manja treshold-a\n",
    "            current_inliers = inliers.copy()\n",
    "            for idx, (x, y, z) in enumerate(points):\n",
    "                # Ako je trenutna tačka jedna od početne tri, preskačemo je\n",
    "                if idx in inliers:\n",
    "                    continue\n",
    "\n",
    "                # Izračunavamo udaljenost trenutne tačke od ravni \n",
    "                distance = math.fabs(a*x + b*y + c*z + d) / plane_length\n",
    "                # Ako je ta udaljenost manja ili jednaka distance_ratio_treshold, dodajemo je u skupinu inliera\n",
    "                if distance <= distance_ratio_threshold:\n",
    "                    current_inliers.append(idx)\n",
    "\n",
    "            # Ako trenutna ravan ima više inliera od svi dosad ispitanih ravni, pohranjujemo je u best_plane\n",
    "            if len(current_inliers) > len(best_inliers_result):\n",
    "                best_inliers_result = current_inliers\n",
    "                best_plane = (a, b, c, d)\n",
    "\n",
    "        # Izdvajamo inliere i outliere od best_plane (ravan sa najviše inliera od ispitanih) iz Point Cloud podatka \n",
    "        inlier_points = points[best_inliers_result]\n",
    "        outlier_points = np.delete(points, best_inliers_result, axis=0)\n",
    "\n",
    "        # Iz funkcije vraćamo inliere, outliere ravni sa najviše inliera i tu ravan        \n",
    "        return inlier_points, outlier_points, best_plane"
   ]
  },
  {
   "cell_type": "code",
   "execution_count": 74,
   "id": "ced6f414-ed6d-4cc8-a52e-26f1cf5852d6",
   "metadata": {},
   "outputs": [],
   "source": [
    "distance_threshold = 0.1\n",
    "num_iterations = 100"
   ]
  },
  {
   "cell_type": "code",
   "execution_count": 75,
   "id": "e9126d98-5e8a-4591-8f59-92f6ae4f089f",
   "metadata": {},
   "outputs": [
    {
     "name": "stdout",
     "output_type": "stream",
     "text": [
      "Plane equation: 0.00x + -0.00y + 8.90z + 12.07 = 0\n"
     ]
    }
   ],
   "source": [
    "APPLICATION = RANSAC(pcd, max_iterations=num_iterations, distance_ratio_threshold=distance_threshold)\n",
    "inliers, plane_model = APPLICATION.run()\n",
    "[a, b, c, d] = plane_model\n",
    "print(f\"Plane equation: {a:.2f}x + {b:.2f}y + {c:.2f}z + {d:.2f} = 0\")"
   ]
  },
  {
   "cell_type": "markdown",
   "id": "51c443e8-fa4f-4dd5-8097-89f06818c732",
   "metadata": {},
   "source": [
    "#### Multi-order RANSAC"
   ]
  },
  {
   "cell_type": "code",
   "execution_count": 76,
   "id": "5b67963f-df6c-49c9-b454-82714b32c691",
   "metadata": {},
   "outputs": [],
   "source": [
    "segment_models={}\n",
    "segments={}"
   ]
  },
  {
   "cell_type": "code",
   "execution_count": 77,
   "id": "f0427c87-e77b-49f1-8961-e84ffd111e05",
   "metadata": {},
   "outputs": [],
   "source": [
    "max_plane_idx=10"
   ]
  },
  {
   "cell_type": "code",
   "execution_count": 78,
   "id": "b5fb469a-9f26-4420-b865-ccc08bc3b112",
   "metadata": {},
   "outputs": [],
   "source": [
    "epsilon = 0.15\n",
    "min_cluster_points = 5"
   ]
  },
  {
   "cell_type": "code",
   "execution_count": 83,
   "id": "3ed826e1-b4be-4151-870f-87d7c96745ba",
   "metadata": {},
   "outputs": [
    {
     "name": "stdout",
     "output_type": "stream",
     "text": [
      "pass 0 / 10 done.\n",
      "pass 1 / 10 done.\n",
      "pass 2 / 10 done.\n",
      "pass 3 / 10 done.\n",
      "pass 4 / 10 done.\n",
      "pass 5 / 10 done.\n",
      "pass 6 / 10 done.\n",
      "pass 7 / 10 done.\n",
      "pass 8 / 10 done.\n",
      "pass 9 / 10 done.\n"
     ]
    }
   ],
   "source": [
    "rest = pcd\n",
    "for i in range(max_plane_idx):\n",
    "    segment_models[i], inliers = rest.segment_plane(distance_threshold=0.1,ransac_n=3,num_iterations=1000)\n",
    "    segments[i] = rest.select_by_index(inliers) # izdvajamo inliere za trenutni plane\n",
    "    # dbscan unutar iteracije ransaca da izdvojimo najveci cluster u segmentu\n",
    "    labels = np.array(segments[i].cluster_dbscan(eps=epsilon, min_points=min_cluster_points)) # dbscan nad izdvojenim segmentom\n",
    "    candidates=[len(np.where(labels==j)[0]) for j in np.unique(labels)] # izdvajamo clustere\n",
    "    best_candidate_index = np.argmax(candidates) # od clustera u trenutnom segmentu izdvajamo najveci\n",
    "    best_candidate = int(np.unique(labels)[best_candidate_index])\n",
    "    rest = rest.select_by_index(inliers, invert=True) + segments[i].select_by_index(list(np.where(labels!=best_candidate)[0])) # iz ransac iteracije u rest vracamo sve tacke koje nisu u najvecem clusteru\n",
    "    segments[i]=segments[i].select_by_index(list(np.where(labels== best_candidate)[0])) # u segment[i] stavljamo samo tacke najveceg clustera\n",
    "    \n",
    "    colors = plt.get_cmap(\"tab20\")(i)\n",
    "    segments[i].paint_uniform_color(list(colors[:3]))\n",
    "    print(\"pass\",i,\"/\",max_plane_idx,\"done.\")"
   ]
  },
  {
   "cell_type": "code",
   "execution_count": 84,
   "id": "88c2507a-a4f2-4246-8946-b3ea97ae7b87",
   "metadata": {},
   "outputs": [],
   "source": [
    "o3d.visualization.draw_geometries([segments[i] for i in range(max_plane_idx)]+[rest])"
   ]
  },
  {
   "cell_type": "code",
   "execution_count": 85,
   "id": "bf64e423-de53-429a-9f5a-9eb04998d511",
   "metadata": {},
   "outputs": [],
   "source": [
    "o3d.visualization.draw_geometries([rest]) # tacke koje nisu ni u jednom segmentu -> moramo nad njima detaljniji dbscan"
   ]
  },
  {
   "cell_type": "markdown",
   "id": "a237f6f3-df11-42b6-a9e2-c80ff7186457",
   "metadata": {},
   "source": [
    "#### DBSCAN nad neklasificiranim tačkama"
   ]
  },
  {
   "cell_type": "code",
   "execution_count": 86,
   "id": "d1e3c88b-6d99-48db-96fc-a844bdec42ee",
   "metadata": {},
   "outputs": [
    {
     "name": "stdout",
     "output_type": "stream",
     "text": [
      "34\n"
     ]
    }
   ],
   "source": [
    "labels = np.array(rest.cluster_dbscan(eps=0.26, min_points=20))\n",
    "print(len(np.unique(labels))) # broj identifikovanih clustera + outlieri"
   ]
  },
  {
   "cell_type": "code",
   "execution_count": 87,
   "id": "d8be53b1-efd5-45d5-a176-e6ebc634a91d",
   "metadata": {},
   "outputs": [],
   "source": [
    "max_label = labels.max()\n",
    "colors = plt.get_cmap(\"tab10\")(labels)\n",
    "colors[labels < 0] = 1\n",
    "rest.colors = o3d.utility.Vector3dVector(colors[:, :3])\n",
    "o3d.visualization.draw_geometries([rest])"
   ]
  },
  {
   "cell_type": "code",
   "execution_count": 88,
   "id": "e60b6f46-cc0c-4ef1-8b3f-bda66413284a",
   "metadata": {},
   "outputs": [],
   "source": [
    "o3d.visualization.draw_geometries([segments[i] for i in range(max_plane_idx)]+[rest]) # vizualizacija svega"
   ]
  },
  {
   "cell_type": "markdown",
   "id": "5544a3d3-04a9-42aa-9d03-af330799f1a5",
   "metadata": {},
   "source": [
    "***"
   ]
  }
 ],
 "metadata": {
  "kernelspec": {
   "display_name": "Python 3 (ipykernel)",
   "language": "python",
   "name": "python3"
  },
  "language_info": {
   "codemirror_mode": {
    "name": "ipython",
    "version": 3
   },
   "file_extension": ".py",
   "mimetype": "text/x-python",
   "name": "python",
   "nbconvert_exporter": "python",
   "pygments_lexer": "ipython3",
   "version": "3.10.12"
  }
 },
 "nbformat": 4,
 "nbformat_minor": 5
}
