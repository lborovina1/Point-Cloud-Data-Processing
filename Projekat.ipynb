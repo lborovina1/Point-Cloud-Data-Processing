{
  "cells": [
    {
      "cell_type": "code",
      "execution_count": 1,
      "id": "a13cf906-ce94-4669-8c9b-b72e9bebcec4",
      "metadata": {
        "colab": {
          "base_uri": "https://localhost:8080/",
          "height": 350
        },
        "id": "a13cf906-ce94-4669-8c9b-b72e9bebcec4",
        "outputId": "be232928-87d4-42cf-a4db-7f16b9c17669"
      },
      "outputs": [
        {
          "name": "stdout",
          "output_type": "stream",
          "text": [
            "Jupyter environment detected. Enabling Open3D WebVisualizer.\n",
            "[Open3D INFO] WebRTC GUI backend enabled.\n",
            "[Open3D INFO] WebRTCWindowSystem: HTTP handshake server disabled.\n"
          ]
        }
      ],
      "source": [
        "import numpy as np\n",
        "import open3d as o3d\n",
        "import matplotlib.pyplot as plt"
      ]
    },
    {
      "cell_type": "code",
      "execution_count": 53,
      "id": "f6eef8d2-3d1f-451d-987f-3cedaeafd999",
      "metadata": {
        "id": "f6eef8d2-3d1f-451d-987f-3cedaeafd999"
      },
      "outputs": [],
      "source": [
        "DATANAME = '/home/hasti/DPS/resursi/ITC_groundfloor.ply'\n",
        "#DATANAME = \"appartment_cloud.ply\"\n",
        "pcd = o3d.io.read_point_cloud(DATANAME)"
      ]
    },
    {
      "cell_type": "code",
      "execution_count": 54,
      "id": "1ae834e8-d540-4efc-baa2-c032bfc84430",
      "metadata": {
        "id": "1ae834e8-d540-4efc-baa2-c032bfc84430",
        "outputId": "7bad2f37-8149-4b70-f366-5ebb4fe2ecdf"
      },
      "outputs": [
        {
          "data": {
            "text/plain": [
              "PointCloud with 334992 points."
            ]
          },
          "execution_count": 54,
          "metadata": {},
          "output_type": "execute_result"
        }
      ],
      "source": [
        "pcd_center = pcd.get_center()\n",
        "pcd.translate(-pcd_center)"
      ]
    },
    {
      "cell_type": "code",
      "execution_count": 55,
      "id": "bf0133e3-f59e-453a-b83f-e2e8382f38b2",
      "metadata": {
        "id": "bf0133e3-f59e-453a-b83f-e2e8382f38b2",
        "outputId": "d439d67a-fc03-4313-f1ff-020708e5f345"
      },
      "outputs": [],
      "source": [
        "o3d.visualization.draw_geometries([pcd])"
      ]
    },
    {
      "cell_type": "code",
      "execution_count": 56,
      "id": "e9514562-48ab-4a44-aa33-50a749afa828",
      "metadata": {
        "id": "e9514562-48ab-4a44-aa33-50a749afa828"
      },
      "outputs": [],
      "source": [
        "retained_ratio = 0.6\n",
        "sampled_pcd = pcd.random_down_sample(retained_ratio)"
      ]
    },
    {
      "cell_type": "code",
      "execution_count": 14,
      "id": "17a9a5d7-6478-43de-a286-c2b908ad9c53",
      "metadata": {
        "id": "17a9a5d7-6478-43de-a286-c2b908ad9c53"
      },
      "outputs": [],
      "source": [
        "o3d.visualization.draw_geometries([sampled_pcd], window_name = \"Random Sampling\")"
      ]
    },
    {
      "cell_type": "code",
      "execution_count": 57,
      "id": "3576cfc5-2e4f-41aa-bbeb-05d067e7cc3b",
      "metadata": {
        "id": "3576cfc5-2e4f-41aa-bbeb-05d067e7cc3b"
      },
      "outputs": [],
      "source": [
        "nn = 16\n",
        "std_multiplier = 10\n",
        "\n",
        "filtered_pcd, filtered_idx = pcd.remove_statistical_outlier(nn, std_multiplier) # filtered_pcd ne sadrzi outliere"
      ]
    },
    {
      "cell_type": "code",
      "execution_count": 58,
      "id": "60230a66-54d9-4b98-b0a9-b1590f35dddb",
      "metadata": {
        "id": "60230a66-54d9-4b98-b0a9-b1590f35dddb",
        "outputId": "260c332e-e6a6-401c-fe93-a36846263287"
      },
      "outputs": [
        {
          "name": "stdout",
          "output_type": "stream",
          "text": [
            "334483\n"
          ]
        }
      ],
      "source": [
        "print(len(filtered_idx)) # broj zadrzanih"
      ]
    },
    {
      "cell_type": "code",
      "execution_count": 59,
      "id": "a4ecefaa-106a-4492-8710-8eb758e2e3d1",
      "metadata": {
        "id": "a4ecefaa-106a-4492-8710-8eb758e2e3d1"
      },
      "outputs": [],
      "source": [
        "outliers = pcd.select_by_index(filtered_idx, invert=True)\n",
        "outliers.paint_uniform_color([1, 0, 0])\n",
        "o3d.visualization.draw_geometries([filtered_pcd, outliers])"
      ]
    },
    {
      "cell_type": "code",
      "execution_count": 60,
      "id": "a1e2f8ce-d9cd-49ea-9016-e5099f38f395",
      "metadata": {
        "id": "a1e2f8ce-d9cd-49ea-9016-e5099f38f395"
      },
      "outputs": [],
      "source": [
        "voxel_size = 0.05 # downsample-ovanje .ply\n",
        "pcd_downsampled = filtered_pcd.voxel_down_sample(voxel_size = voxel_size)"
      ]
    },
    {
      "cell_type": "code",
      "execution_count": 20,
      "id": "390f4bbb-7af8-444c-883a-f6b7ac740f14",
      "metadata": {
        "id": "390f4bbb-7af8-444c-883a-f6b7ac740f14",
        "outputId": "a0e5ad64-4350-4069-941b-3311d2f5696b"
      },
      "outputs": [],
      "source": [
        "o3d.visualization.draw_geometries([pcd_downsampled])"
      ]
    },
    {
      "cell_type": "code",
      "execution_count": 61,
      "id": "5bc69418-dd96-448a-8a09-9b7cc025abae",
      "metadata": {
        "id": "5bc69418-dd96-448a-8a09-9b7cc025abae"
      },
      "outputs": [],
      "source": [
        "nn_distance = 0.05"
      ]
    },
    {
      "cell_type": "code",
      "execution_count": 62,
      "id": "725a845d-5951-4f65-8929-abe3763963f1",
      "metadata": {
        "id": "725a845d-5951-4f65-8929-abe3763963f1"
      },
      "outputs": [],
      "source": [
        "radius_normals=nn_distance*4\n",
        "pcd_downsampled.estimate_normals(search_param=o3d.geometry.KDTreeSearchParamHybrid(radius=radius_normals, max_nn=16), fast_normal_computation=True)"
      ]
    },
    {
      "cell_type": "code",
      "execution_count": 63,
      "id": "f81881c5-b85f-40da-bb30-92b22186ead9",
      "metadata": {
        "id": "f81881c5-b85f-40da-bb30-92b22186ead9",
        "outputId": "3d461de4-7789-48c9-dddb-b619fa75ec09"
      },
      "outputs": [],
      "source": [
        "pcd_downsampled.paint_uniform_color([0.6, 0.6, 0.6])\n",
        "o3d.visualization.draw_geometries([pcd_downsampled,outliers])"
      ]
    },
    {
      "cell_type": "code",
      "execution_count": 64,
      "id": "b3333f33-c7fe-4cbd-a9ac-e3a87a6606af",
      "metadata": {
        "id": "b3333f33-c7fe-4cbd-a9ac-e3a87a6606af"
      },
      "outputs": [],
      "source": [
        "nn_distance = np.mean(pcd.compute_nearest_neighbor_distance())"
      ]
    },
    {
      "cell_type": "code",
      "execution_count": 65,
      "id": "f70438b8-f1dd-4ef8-be1f-9b62dfa9f554",
      "metadata": {
        "id": "f70438b8-f1dd-4ef8-be1f-9b62dfa9f554",
        "outputId": "69b2d632-b341-447d-951f-8c0901905f5b"
      },
      "outputs": [
        {
          "name": "stdout",
          "output_type": "stream",
          "text": [
            "0.05184336547135975\n"
          ]
        }
      ],
      "source": [
        "print(nn_distance)"
      ]
    },
    {
      "cell_type": "code",
      "execution_count": 66,
      "id": "ced6f414-ed6d-4cc8-a52e-26f1cf5852d6",
      "metadata": {
        "id": "ced6f414-ed6d-4cc8-a52e-26f1cf5852d6"
      },
      "outputs": [],
      "source": [
        "distance_threshold = 0.1\n",
        "ransac_n = 3\n",
        "num_iterations = 1000"
      ]
    },
    {
      "cell_type": "code",
      "execution_count": 67,
      "id": "e9126d98-5e8a-4591-8f59-92f6ae4f089f",
      "metadata": {
        "id": "e9126d98-5e8a-4591-8f59-92f6ae4f089f",
        "outputId": "afe7bb1c-cf9b-4388-d34c-fb59c85ba071"
      },
      "outputs": [
        {
          "name": "stdout",
          "output_type": "stream",
          "text": [
            "Plane equation: -0.00x + -0.00y + 1.00z + 1.35 = 0\n"
          ]
        }
      ],
      "source": [
        "plane_model, inliers = pcd.segment_plane(distance_threshold=distance_threshold,ransac_n=3,num_iterations=1000)\n",
        "[a, b, c, d] = plane_model\n",
        "print(f\"Plane equation: {a:.2f}x + {b:.2f}y + {c:.2f}z + {d:.2f} = 0\")"
      ]
    },
    {
      "cell_type": "code",
      "execution_count": 68,
      "id": "2a6ffe06-b333-4c00-abd0-df54bcdc4dcc",
      "metadata": {
        "id": "2a6ffe06-b333-4c00-abd0-df54bcdc4dcc"
      },
      "outputs": [],
      "source": [
        "inlier_cloud = pcd.select_by_index(inliers)\n",
        "outlier_cloud = pcd.select_by_index(inliers, invert=True)\n",
        "\n",
        "#Paint the clouds\n",
        "inlier_cloud.paint_uniform_color([1.0, 0, 0])\n",
        "outlier_cloud.paint_uniform_color([0.6, 0.6, 0.6])\n",
        "\n",
        "#Visualize the inliers and outliers\n",
        "o3d.visualization.draw_geometries([inlier_cloud, outlier_cloud])"
      ]
    },
    {
      "cell_type": "code",
      "execution_count": 69,
      "id": "5b67963f-df6c-49c9-b454-82714b32c691",
      "metadata": {
        "id": "5b67963f-df6c-49c9-b454-82714b32c691"
      },
      "outputs": [],
      "source": [
        "segment_models={}\n",
        "segments={}"
      ]
    },
    {
      "cell_type": "code",
      "execution_count": 70,
      "id": "f0427c87-e77b-49f1-8961-e84ffd111e05",
      "metadata": {
        "id": "f0427c87-e77b-49f1-8961-e84ffd111e05"
      },
      "outputs": [],
      "source": [
        "max_plane_idx=10"
      ]
    },
    {
      "cell_type": "code",
      "execution_count": 71,
      "id": "b5fb469a-9f26-4420-b865-ccc08bc3b112",
      "metadata": {
        "id": "b5fb469a-9f26-4420-b865-ccc08bc3b112"
      },
      "outputs": [],
      "source": [
        "epsilon = 0.15\n",
        "min_cluster_points = 5"
      ]
    },
    {
      "cell_type": "code",
      "execution_count": 72,
      "id": "3ed826e1-b4be-4151-870f-87d7c96745ba",
      "metadata": {
        "id": "3ed826e1-b4be-4151-870f-87d7c96745ba",
        "outputId": "6a05fafc-3065-48a4-adad-c694cb8ecc5e"
      },
      "outputs": [
        {
          "name": "stderr",
          "output_type": "stream",
          "text": [
            "/tmp/ipykernel_4673/3609226973.py:9: DeprecationWarning: Conversion of an array with ndim > 0 to a scalar is deprecated, and will error in future. Ensure you extract a single element from your array before performing this operation. (Deprecated NumPy 1.25.)\n",
            "  best_candidate=int(np.unique(labels)[np.where(candidates== np.max(candidates))[0]]) # od clustera u trenutnom segmentu izdvajamo njaveci\n"
          ]
        },
        {
          "name": "stdout",
          "output_type": "stream",
          "text": [
            "pass 0 / 10 done.\n",
            "pass 1 / 10 done.\n",
            "pass 2 / 10 done.\n",
            "pass 3 / 10 done.\n",
            "pass 4 / 10 done.\n",
            "pass 5 / 10 done.\n",
            "pass 6 / 10 done.\n",
            "pass 7 / 10 done.\n",
            "pass 8 / 10 done.\n",
            "pass 9 / 10 done.\n"
          ]
        }
      ],
      "source": [
        "rest = pcd\n",
        "for i in range(max_plane_idx):\n",
        "    segment_models[i], inliers = rest.segment_plane(\n",
        "    distance_threshold=0.1,ransac_n=3,num_iterations=1000)\n",
        "    segments[i] = rest.select_by_index(inliers) # izdvajamo inliere za trenutni plane\n",
        "    # dbscan unutar iteracije ransaca da izdvojimo najveci cluster u segmentu\n",
        "    labels = np.array(segments[i].cluster_dbscan(eps=epsilon, min_points=min_cluster_points)) # dbscan nad izdvojenim segmentom\n",
        "    candidates=[len(np.where(labels==j)[0]) for j in np.unique(labels)] # izdvajamo clustere\n",
        "    best_candidate=int(np.unique(labels)[np.where(candidates== np.max(candidates))[0]]) # od clustera u trenutnom segmentu izdvajamo njaveci\n",
        "    rest = rest.select_by_index(inliers, invert=True) + segments[i].select_by_index(list(np.where(labels!=best_candidate)[0])) # iz ransac iteracije u rest vracamo sve tacke koje nisu u najvecem clusteru\n",
        "    segments[i]=segments[i].select_by_index(list(np.where(labels== best_candidate)[0])) # u segment[i] stavljamo samo tacke najveceg clustera\n",
        "\n",
        "    colors = plt.get_cmap(\"tab20\")(i)\n",
        "    segments[i].paint_uniform_color(list(colors[:3]))\n",
        "    print(\"pass\",i,\"/\",max_plane_idx,\"done.\")"
      ]
    },
    {
      "cell_type": "code",
      "execution_count": 33,
      "id": "88c2507a-a4f2-4246-8946-b3ea97ae7b87",
      "metadata": {
        "id": "88c2507a-a4f2-4246-8946-b3ea97ae7b87",
        "outputId": "df975519-8735-46a3-96a9-da0d1af60d4d"
      },
      "outputs": [],
      "source": [
        "o3d.visualization.draw_geometries([segments[i] for i in range(max_plane_idx)]+[rest])"
      ]
    },
    {
      "cell_type": "code",
      "execution_count": 34,
      "id": "bf64e423-de53-429a-9f5a-9eb04998d511",
      "metadata": {
        "id": "bf64e423-de53-429a-9f5a-9eb04998d511"
      },
      "outputs": [],
      "source": [
        "o3d.visualization.draw_geometries([rest]) # tacke koje nisu ni u jednom segmentu -> moramo nad njima detaljniji dbscan"
      ]
    },
    {
      "cell_type": "code",
      "execution_count": 35,
      "id": "8a61de3c-5855-4581-a149-aa2317177461",
      "metadata": {
        "id": "8a61de3c-5855-4581-a149-aa2317177461",
        "outputId": "23358e8f-a634-4528-8a7d-779dfac6b0cd"
      },
      "outputs": [
        {
          "name": "stdout",
          "output_type": "stream",
          "text": [
            "34\n"
          ]
        }
      ],
      "source": [
        "labels = np.array(rest.cluster_dbscan(eps=0.26, min_points=20))\n",
        "print(len(np.unique(labels))) # 12 clustera + outlieri"
      ]
    },
    {
      "cell_type": "code",
      "execution_count": 36,
      "id": "381c90a6-5c44-4e42-be9b-1256c43bd5e4",
      "metadata": {
        "id": "381c90a6-5c44-4e42-be9b-1256c43bd5e4"
      },
      "outputs": [],
      "source": [
        "max_label = labels.max()\n",
        "colors = plt.get_cmap(\"tab10\")(labels)\n",
        "colors[labels < 0] = 1\n",
        "rest.colors = o3d.utility.Vector3dVector(colors[:, :3])\n",
        "o3d.visualization.draw_geometries([rest])"
      ]
    },
    {
      "cell_type": "code",
      "execution_count": 37,
      "id": "100c1c70-90b4-4ad9-8a9a-0d709e44c655",
      "metadata": {
        "id": "100c1c70-90b4-4ad9-8a9a-0d709e44c655",
        "outputId": "5ae03b51-97be-4ece-f190-c2b044a5ccaa"
      },
      "outputs": [],
      "source": [
        "o3d.visualization.draw_geometries([segments[i] for i in range(max_plane_idx)]+[rest]) # vizualizacija svega"
      ]
    },
    {
      "cell_type": "code",
      "execution_count": 38,
      "id": "7aa2f638-305c-4625-8c81-cdc14a16f660",
      "metadata": {
        "id": "7aa2f638-305c-4625-8c81-cdc14a16f660"
      },
      "outputs": [],
      "source": [
        "voxel_size=0.5"
      ]
    },
    {
      "cell_type": "code",
      "execution_count": 39,
      "id": "497a07a1-4340-45d3-990d-2caa18e2dabf",
      "metadata": {
        "id": "497a07a1-4340-45d3-990d-2caa18e2dabf"
      },
      "outputs": [],
      "source": [
        "min_bound = pcd.get_min_bound()\n",
        "max_bound = pcd.get_max_bound()"
      ]
    },
    {
      "cell_type": "code",
      "execution_count": 40,
      "id": "131e7792-419e-4c83-876a-e69bbb35dcbd",
      "metadata": {
        "id": "131e7792-419e-4c83-876a-e69bbb35dcbd"
      },
      "outputs": [],
      "source": [
        "pcd_ransac=o3d.geometry.PointCloud() # za voxel \"boxove\" uzimamo prvo sve segmente koji su izvuceni RANSAC-om\n",
        "for i in segments:\n",
        " pcd_ransac += segments[i]"
      ]
    },
    {
      "cell_type": "code",
      "execution_count": 41,
      "id": "eb9d5e91-a1e3-41e9-9391-87e154df8740",
      "metadata": {
        "id": "eb9d5e91-a1e3-41e9-9391-87e154df8740"
      },
      "outputs": [],
      "source": [
        "voxel_grid_structural = o3d.geometry.VoxelGrid.create_from_point_cloud(pcd_ransac, voxel_size=voxel_size)"
      ]
    },
    {
      "cell_type": "code",
      "execution_count": 42,
      "id": "0d0bda84-ae28-4c45-800f-afa34dc62132",
      "metadata": {
        "id": "0d0bda84-ae28-4c45-800f-afa34dc62132"
      },
      "outputs": [],
      "source": [
        "voxel_grid_clutter = o3d.geometry.VoxelGrid.create_from_point_cloud(rest, voxel_size=voxel_size)"
      ]
    },
    {
      "cell_type": "code",
      "execution_count": 43,
      "id": "eca2a791-da5d-459d-b156-e7d8d084af67",
      "metadata": {
        "id": "eca2a791-da5d-459d-b156-e7d8d084af67"
      },
      "outputs": [],
      "source": [
        "o3d.visualization.draw_geometries([voxel_grid_clutter,voxel_grid_structural])"
      ]
    },
    {
      "cell_type": "code",
      "execution_count": 45,
      "id": "ef36f124-c97a-4614-bb12-11e3f09d0c7c",
      "metadata": {
        "id": "ef36f124-c97a-4614-bb12-11e3f09d0c7c"
      },
      "outputs": [],
      "source": [
        "def fit_voxel_grid(point_cloud, voxel_size, min_b=False, max_b=False):\n",
        "    # Determine the minimum and maximum coordinates of the point cloud\n",
        "    if type(min_b) == bool or type(max_b) == bool:\n",
        "        min_coords = np.min(point_cloud, axis=0)\n",
        "        max_coords = np.max(point_cloud, axis=0)\n",
        "    else:\n",
        "        min_coords = min_b\n",
        "        max_coords = max_b\n",
        "    # Calculate the dimensions of the voxel grid\n",
        "    grid_dims = np.ceil((max_coords - min_coords) / voxel_size).astype(int)\n",
        "    # Create an empty voxel grid\n",
        "    voxel_grid = np.zeros(grid_dims, dtype=bool)\n",
        "    # Calculate the indices of the occupied voxels\n",
        "    indices = ((point_cloud - min_coords) / voxel_size).astype(int)\n",
        "    # Mark occupied voxels as True\n",
        "    voxel_grid[indices[:, 0], indices[:, 1], indices[:, 2]] = True\n",
        "    return voxel_grid, indices"
      ]
    },
    {
      "cell_type": "code",
      "execution_count": 46,
      "id": "712d1e15-efec-46ad-ba0a-b4db494f3b83",
      "metadata": {
        "id": "712d1e15-efec-46ad-ba0a-b4db494f3b83"
      },
      "outputs": [],
      "source": [
        "voxel_size = 0.3\n",
        "\n",
        "#get the bounds of the original point cloud\n",
        "min_bound = pcd.get_min_bound()\n",
        "max_bound = pcd.get_max_bound()\n",
        "\n",
        "ransac_voxels, idx_ransac = fit_voxel_grid(pcd_ransac.points, voxel_size, min_bound, max_bound)\n",
        "rest_voxels, idx_rest = fit_voxel_grid(rest.points, voxel_size, min_bound, max_bound)\n",
        "\n",
        "#Gather the filled voxels from RANSAC Segmentation\n",
        "filled_ransac = np.transpose(np.nonzero(ransac_voxels))\n",
        "\n",
        "#Gather the filled remaining voxels (not belonging to any segments)\n",
        "filled_rest = np.transpose(np.nonzero(rest_voxels))\n",
        "\n",
        "#Compute and gather the remaining empty voxels\n",
        "total = pcd_ransac + rest\n",
        "total_voxels, idx_total = fit_voxel_grid(total.points, voxel_size, min_bound, max_bound)\n",
        "empty_indices = np.transpose(np.nonzero(~total_voxels))"
      ]
    },
    {
      "cell_type": "code",
      "execution_count": 47,
      "id": "26386445-ed4c-4870-b7fe-c1a5d6050985",
      "metadata": {
        "id": "26386445-ed4c-4870-b7fe-c1a5d6050985",
        "outputId": "625cc4df-0460-4d67-dc35-7fb0db30e544"
      },
      "outputs": [
        {
          "name": "stdout",
          "output_type": "stream",
          "text": [
            "0 PointCloud with 104166 points.\n",
            "1 PointCloud with 47741 points.\n",
            "2 PointCloud with 27977 points.\n",
            "3 PointCloud with 30158 points.\n",
            "4 PointCloud with 11147 points.\n",
            "5 PointCloud with 9877 points.\n",
            "6 PointCloud with 16995 points.\n",
            "7 PointCloud with 3620 points.\n",
            "8 PointCloud with 3985 points.\n",
            "9 PointCloud with 5986 points.\n"
          ]
        }
      ],
      "source": [
        "xyz_segments=[]\n",
        "for idx in segments:\n",
        "    print(idx,segments[idx])\n",
        "    a = np.asarray(segments[idx].points)\n",
        "    N = len(a)\n",
        "    b = idx*np.ones((N,3+1))\n",
        "    b[:,:-1] = a\n",
        "    xyz_segments.append(b)"
      ]
    },
    {
      "cell_type": "code",
      "execution_count": 48,
      "id": "16dc6223-f3de-45aa-9108-26d66b4c33c7",
      "metadata": {
        "id": "16dc6223-f3de-45aa-9108-26d66b4c33c7"
      },
      "outputs": [],
      "source": [
        "rest_w_segments=np.hstack((np.asarray(rest.points),(labels+max_plane_idx).reshape(-1, 1)))"
      ]
    },
    {
      "cell_type": "code",
      "execution_count": 49,
      "id": "b9c9beb5-61fa-4c67-9645-f833f3cbbec2",
      "metadata": {
        "id": "b9c9beb5-61fa-4c67-9645-f833f3cbbec2"
      },
      "outputs": [],
      "source": [
        "xyz_segments.append(rest_w_segments)"
      ]
    },
    {
      "cell_type": "code",
      "execution_count": 50,
      "id": "4d3b1b15-32d8-4336-a4e3-25e37daac95a",
      "metadata": {
        "id": "4d3b1b15-32d8-4336-a4e3-25e37daac95a"
      },
      "outputs": [
        {
          "ename": "FileNotFoundError",
          "evalue": "[Errno 2] No such file or directory: 'Desktop//home/hasti/DPS/resursi/ITC_groundfloor.xyz'",
          "output_type": "error",
          "traceback": [
            "\u001b[0;31m---------------------------------------------------------------------------\u001b[0m",
            "\u001b[0;31mFileNotFoundError\u001b[0m                         Traceback (most recent call last)",
            "Cell \u001b[0;32mIn[50], line 1\u001b[0m\n\u001b[0;32m----> 1\u001b[0m \u001b[43mnp\u001b[49m\u001b[38;5;241;43m.\u001b[39;49m\u001b[43msavetxt\u001b[49m\u001b[43m(\u001b[49m\u001b[38;5;124;43m\"\u001b[39;49m\u001b[38;5;124;43mDesktop/\u001b[39;49m\u001b[38;5;124;43m\"\u001b[39;49m\u001b[43m \u001b[49m\u001b[38;5;241;43m+\u001b[39;49m\u001b[43m \u001b[49m\u001b[43mDATANAME\u001b[49m\u001b[38;5;241;43m.\u001b[39;49m\u001b[43msplit\u001b[49m\u001b[43m(\u001b[49m\u001b[38;5;124;43m\"\u001b[39;49m\u001b[38;5;124;43m.\u001b[39;49m\u001b[38;5;124;43m\"\u001b[39;49m\u001b[43m)\u001b[49m\u001b[43m[\u001b[49m\u001b[38;5;241;43m0\u001b[39;49m\u001b[43m]\u001b[49m\u001b[43m \u001b[49m\u001b[38;5;241;43m+\u001b[39;49m\u001b[43m \u001b[49m\u001b[38;5;124;43m\"\u001b[39;49m\u001b[38;5;124;43m.xyz\u001b[39;49m\u001b[38;5;124;43m\"\u001b[39;49m\u001b[43m,\u001b[49m\u001b[43m \u001b[49m\u001b[43mnp\u001b[49m\u001b[38;5;241;43m.\u001b[39;49m\u001b[43mconcatenate\u001b[49m\u001b[43m(\u001b[49m\u001b[43mxyz_segments\u001b[49m\u001b[43m)\u001b[49m\u001b[43m,\u001b[49m\u001b[43m \u001b[49m\u001b[43mdelimiter\u001b[49m\u001b[38;5;241;43m=\u001b[39;49m\u001b[38;5;124;43m\"\u001b[39;49m\u001b[38;5;124;43m;\u001b[39;49m\u001b[38;5;124;43m\"\u001b[39;49m\u001b[43m,\u001b[49m\u001b[43m \u001b[49m\u001b[43mfmt\u001b[49m\u001b[38;5;241;43m=\u001b[39;49m\u001b[38;5;124;43m\"\u001b[39;49m\u001b[38;5;132;43;01m%1.9f\u001b[39;49;00m\u001b[38;5;124;43m\"\u001b[39;49m\u001b[43m)\u001b[49m\n",
            "File \u001b[0;32m~/.local/lib/python3.10/site-packages/numpy/lib/npyio.py:1556\u001b[0m, in \u001b[0;36msavetxt\u001b[0;34m(fname, X, fmt, delimiter, newline, header, footer, comments, encoding)\u001b[0m\n\u001b[1;32m   1553\u001b[0m     fname \u001b[38;5;241m=\u001b[39m os_fspath(fname)\n\u001b[1;32m   1554\u001b[0m \u001b[38;5;28;01mif\u001b[39;00m _is_string_like(fname):\n\u001b[1;32m   1555\u001b[0m     \u001b[38;5;66;03m# datasource doesn't support creating a new file ...\u001b[39;00m\n\u001b[0;32m-> 1556\u001b[0m     \u001b[38;5;28;43mopen\u001b[39;49m\u001b[43m(\u001b[49m\u001b[43mfname\u001b[49m\u001b[43m,\u001b[49m\u001b[43m \u001b[49m\u001b[38;5;124;43m'\u001b[39;49m\u001b[38;5;124;43mwt\u001b[39;49m\u001b[38;5;124;43m'\u001b[39;49m\u001b[43m)\u001b[49m\u001b[38;5;241m.\u001b[39mclose()\n\u001b[1;32m   1557\u001b[0m     fh \u001b[38;5;241m=\u001b[39m np\u001b[38;5;241m.\u001b[39mlib\u001b[38;5;241m.\u001b[39m_datasource\u001b[38;5;241m.\u001b[39mopen(fname, \u001b[38;5;124m'\u001b[39m\u001b[38;5;124mwt\u001b[39m\u001b[38;5;124m'\u001b[39m, encoding\u001b[38;5;241m=\u001b[39mencoding)\n\u001b[1;32m   1558\u001b[0m     own_fh \u001b[38;5;241m=\u001b[39m \u001b[38;5;28;01mTrue\u001b[39;00m\n",
            "\u001b[0;31mFileNotFoundError\u001b[0m: [Errno 2] No such file or directory: 'Desktop//home/hasti/DPS/resursi/ITC_groundfloor.xyz'"
          ]
        }
      ],
      "source": [
        "np.savetxt(\"Desktop/\" + DATANAME.split(\".\")[0] + \".xyz\", np.concatenate(xyz_segments), delimiter=\";\", fmt=\"%1.9f\")"
      ]
    },
    {
      "cell_type": "code",
      "execution_count": 21,
      "id": "25fdd1b4",
      "metadata": {},
      "outputs": [],
      "source": [
        "def next_id(cluster_id):\n",
        "    return cluster_id + 1\n",
        "\n",
        "UNCLASSIFIED = -1\n",
        "NOISE = 0\n",
        "import math\n",
        "def metric(x, y):\n",
        "    return math.sqrt((x[0]-y[0])**2 + (x[1]-y[1])**2)\n",
        "\n",
        "def region_query(pcd, i, eps):\n",
        "    p = i\n",
        "    s = set()\n",
        "    for point in pcd:\n",
        "        r = metric(p, point)\n",
        "        if  r <= eps and r > 0:\n",
        "            s.add(point)\n",
        "    return s\n",
        "\n",
        "def expand_cluster(point_cloud, labels, i, cluster_id, eps, minPts):\n",
        "    labels[cluster_id] = set(point_cloud[i])\n",
        "    seed = region_query(point_cloud, point_cloud[i], eps)\n",
        "    if len(seed) < minPts:\n",
        "        labels[NOISE].add(point_cloud[i])\n",
        "        return False\n",
        "    for p in seed:\n",
        "        labels[cluster_id].add(p)\n",
        "    while len(seed) != 0:\n",
        "        curr = seed.pop()\n",
        "        result = region_query(point_cloud, curr, eps)\n",
        "        if len(result) >= minPts:\n",
        "            for k in result:\n",
        "                if k in labels[NOISE]:\n",
        "                    if k not in labels.items():\n",
        "                        seed.add(k)\n",
        "                    # unija svih\n",
        "                    labels[cluster_id].add(k)\n",
        "    return True\n",
        "\n",
        "\n",
        "\n",
        "\n",
        "\n",
        "    \n",
        "\"\"\"\n",
        "DBSCAN : POINT_CLOUD -> CLUSTERING\n",
        "input:      point_cloud: tuple\n",
        "            eps:    double\n",
        "            minPts: int\n",
        "output:     clustering: dictionary\n",
        "\n",
        "\"\"\"\n",
        "def dbscan(point_cloud, eps, minPts):\n",
        "    cluster_id = next_id(NOISE)\n",
        "    labels = {}\n",
        "    labels[NOISE] = set()\n",
        "    labeled = set()\n",
        "    for i in range(0, len(point_cloud)):\n",
        "        if i in labeled:\n",
        "            continue\n",
        "        labeled.add(i)\n",
        "        if expand_cluster(point_cloud, labels, i, cluster_id, eps, minPts):\n",
        "            cluster_id = next_id(cluster_id)\n",
        "    return labels\n",
        "\n",
        "#TODO: dozvoliti promjenu metrike, implementirati R*, dozvoliti arbitrarne labele\n",
        "#PROBLEM: O(n^2) i osjeti se"
      ]
    },
    {
      "cell_type": "code",
      "execution_count": 25,
      "id": "48b44d3d",
      "metadata": {},
      "outputs": [],
      "source": [
        "import pandas as pd\n",
        "import numpy as np\n",
        "\n",
        "df = pd.read_csv('/home/hasti/DPS/resursi/outliers.csv')\n",
        "df = df[['x', 'y']]\n",
        "\n",
        "c = df.to_numpy()\n",
        "cloud = tuple(map(tuple, c))\n",
        "\n",
        "C = dbscan(cloud, 10, 4)\n",
        "for item in C.items():\n",
        "    if len(item) == 0:\n",
        "        print(len(item))"
      ]
    }
  ],
  "metadata": {
    "colab": {
      "provenance": []
    },
    "kernelspec": {
      "display_name": "Python 3 (ipykernel)",
      "language": "python",
      "name": "python3"
    },
    "language_info": {
      "codemirror_mode": {
        "name": "ipython",
        "version": 3
      },
      "file_extension": ".py",
      "mimetype": "text/x-python",
      "name": "python",
      "nbconvert_exporter": "python",
      "pygments_lexer": "ipython3",
      "version": "3.10.12"
    }
  },
  "nbformat": 4,
  "nbformat_minor": 5
}
